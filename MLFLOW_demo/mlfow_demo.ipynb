{
 "cells": [
  {
   "cell_type": "code",
   "execution_count": 1,
   "id": "44c2cb2d",
   "metadata": {},
   "outputs": [],
   "source": [
    "import mlflow\n",
    "import mlflow.sklearn\n",
    "from sklearn.ensemble import RandomForestRegressor\n",
    "from sklearn.datasets import load_diabetes\n",
    "from sklearn.model_selection import train_test_split\n",
    "import pandas as pd"
   ]
  },
  {
   "cell_type": "code",
   "execution_count": 2,
   "id": "e8a60b5f",
   "metadata": {},
   "outputs": [
    {
     "data": {
      "text/html": [
       "<div>\n",
       "<style scoped>\n",
       "    .dataframe tbody tr th:only-of-type {\n",
       "        vertical-align: middle;\n",
       "    }\n",
       "\n",
       "    .dataframe tbody tr th {\n",
       "        vertical-align: top;\n",
       "    }\n",
       "\n",
       "    .dataframe thead th {\n",
       "        text-align: right;\n",
       "    }\n",
       "</style>\n",
       "<table border=\"1\" class=\"dataframe\">\n",
       "  <thead>\n",
       "    <tr style=\"text-align: right;\">\n",
       "      <th></th>\n",
       "      <th>age</th>\n",
       "      <th>sex</th>\n",
       "      <th>cp</th>\n",
       "      <th>trestbps</th>\n",
       "      <th>chol</th>\n",
       "      <th>fbs</th>\n",
       "      <th>restecg</th>\n",
       "      <th>thalach</th>\n",
       "      <th>exang</th>\n",
       "      <th>oldpeak</th>\n",
       "      <th>slope</th>\n",
       "      <th>ca</th>\n",
       "      <th>thal</th>\n",
       "      <th>target</th>\n",
       "    </tr>\n",
       "  </thead>\n",
       "  <tbody>\n",
       "    <tr>\n",
       "      <th>0</th>\n",
       "      <td>63</td>\n",
       "      <td>1</td>\n",
       "      <td>3</td>\n",
       "      <td>145</td>\n",
       "      <td>233</td>\n",
       "      <td>1</td>\n",
       "      <td>0</td>\n",
       "      <td>150</td>\n",
       "      <td>0</td>\n",
       "      <td>2.3</td>\n",
       "      <td>0</td>\n",
       "      <td>0</td>\n",
       "      <td>1</td>\n",
       "      <td>1</td>\n",
       "    </tr>\n",
       "    <tr>\n",
       "      <th>1</th>\n",
       "      <td>37</td>\n",
       "      <td>1</td>\n",
       "      <td>2</td>\n",
       "      <td>130</td>\n",
       "      <td>250</td>\n",
       "      <td>0</td>\n",
       "      <td>1</td>\n",
       "      <td>187</td>\n",
       "      <td>0</td>\n",
       "      <td>3.5</td>\n",
       "      <td>0</td>\n",
       "      <td>0</td>\n",
       "      <td>2</td>\n",
       "      <td>1</td>\n",
       "    </tr>\n",
       "    <tr>\n",
       "      <th>2</th>\n",
       "      <td>41</td>\n",
       "      <td>0</td>\n",
       "      <td>1</td>\n",
       "      <td>130</td>\n",
       "      <td>204</td>\n",
       "      <td>0</td>\n",
       "      <td>0</td>\n",
       "      <td>172</td>\n",
       "      <td>0</td>\n",
       "      <td>1.4</td>\n",
       "      <td>2</td>\n",
       "      <td>0</td>\n",
       "      <td>2</td>\n",
       "      <td>1</td>\n",
       "    </tr>\n",
       "    <tr>\n",
       "      <th>3</th>\n",
       "      <td>56</td>\n",
       "      <td>1</td>\n",
       "      <td>1</td>\n",
       "      <td>120</td>\n",
       "      <td>236</td>\n",
       "      <td>0</td>\n",
       "      <td>1</td>\n",
       "      <td>178</td>\n",
       "      <td>0</td>\n",
       "      <td>0.8</td>\n",
       "      <td>2</td>\n",
       "      <td>0</td>\n",
       "      <td>2</td>\n",
       "      <td>1</td>\n",
       "    </tr>\n",
       "    <tr>\n",
       "      <th>4</th>\n",
       "      <td>57</td>\n",
       "      <td>0</td>\n",
       "      <td>0</td>\n",
       "      <td>120</td>\n",
       "      <td>354</td>\n",
       "      <td>0</td>\n",
       "      <td>1</td>\n",
       "      <td>163</td>\n",
       "      <td>1</td>\n",
       "      <td>0.6</td>\n",
       "      <td>2</td>\n",
       "      <td>0</td>\n",
       "      <td>2</td>\n",
       "      <td>1</td>\n",
       "    </tr>\n",
       "  </tbody>\n",
       "</table>\n",
       "</div>"
      ],
      "text/plain": [
       "   age  sex  cp  trestbps  chol  fbs  restecg  thalach  exang  oldpeak  slope  \\\n",
       "0   63    1   3       145   233    1        0      150      0      2.3      0   \n",
       "1   37    1   2       130   250    0        1      187      0      3.5      0   \n",
       "2   41    0   1       130   204    0        0      172      0      1.4      2   \n",
       "3   56    1   1       120   236    0        1      178      0      0.8      2   \n",
       "4   57    0   0       120   354    0        1      163      1      0.6      2   \n",
       "\n",
       "   ca  thal  target  \n",
       "0   0     1       1  \n",
       "1   0     2       1  \n",
       "2   0     2       1  \n",
       "3   0     2       1  \n",
       "4   0     2       1  "
      ]
     },
     "execution_count": 2,
     "metadata": {},
     "output_type": "execute_result"
    }
   ],
   "source": [
    "# train my machine learning model \n",
    "# heart disease prediction model\n",
    "\n",
    "data = pd.read_csv(r'C:\\Users\\ankit_aj\\Desktop\\MLOPS-case_studies\\Demo_050725_DVC\\SKILLFY_21_JUNE_25\\data\\heart.csv')\n",
    "data.head()"
   ]
  },
  {
   "cell_type": "code",
   "execution_count": 5,
   "id": "7430357c",
   "metadata": {},
   "outputs": [
    {
     "name": "stdout",
     "output_type": "stream",
     "text": [
      "Accuracy: 0.8524590163934426\n",
      "F1 Score: 0.8732394366197183\n",
      "Precision: 0.7948717948717948\n"
     ]
    },
    {
     "name": "stderr",
     "output_type": "stream",
     "text": [
      "2025/08/17 08:27:21 WARNING mlflow.models.model: `artifact_path` is deprecated. Please use `name` instead.\n",
      "2025/08/17 08:27:30 WARNING mlflow.models.model: Model logged without a signature and input example. Please set `input_example` parameter when logging the model to auto infer the model signature.\n"
     ]
    },
    {
     "name": "stdout",
     "output_type": "stream",
     "text": [
      "Model logged with MLflow\n",
      "Run ID: ba51dea241f244668abc3fd2c2dc69a5\n",
      "Accuracy: 0.8525, Precision: 0.7949, F1 Score: 0.8732\n"
     ]
    }
   ],
   "source": [
    "from sklearn.metrics import accuracy_score, f1_score, precision_score\n",
    "from sklearn.ensemble import RandomForestClassifier\n",
    "\n",
    "# supervise machine learning classfication model \n",
    "X = data.drop('target', axis=1)\n",
    "y = data['target']\n",
    "# Since RandomForestRegressor is a regression model, we need to convert its predictions to binary for classification metrics\n",
    "# Predict and threshold at 0.5\n",
    "X_train, X_test, y_train, y_test = train_test_split(X, y, test_size=0.2, random_state=42)\n",
    "\n",
    "n_estimators = 2\n",
    "max_depth=1\n",
    "random_state=23\n",
    "model = RandomForestClassifier(n_estimators=n_estimators, max_depth=max_depth, random_state=random_state)\n",
    "model.fit(X_test, y_test)\n",
    "y_pred = model.predict(X_test)\n",
    "\n",
    "precision = precision_score(y_test, y_pred)\n",
    "accuracy = accuracy_score(y_test, y_pred)\n",
    "f1 = f1_score(y_test, y_pred)\n",
    "\n",
    "\n",
    "print(\"Accuracy:\", accuracy)\n",
    "print(\"F1 Score:\", f1)\n",
    "print(\"Precision:\", precision)\n",
    "\n",
    "\n",
    "# Log the model with MLflow\n",
    "mlflow.set_experiment(\"1708_mlops_heart_case\")\n",
    "\n",
    "with mlflow.start_run():\n",
    "    #mlflow.sklearn.log_model(model, \"model\")\n",
    "    mlflow.log_param(\"n_estimators\", n_estimators)\n",
    "    mlflow.log_param(\"max_depth\", max_depth)\n",
    "    mlflow.log_param(\"random_state\", random_state)\n",
    "    mlflow.log_metric(\"accuracy\", accuracy)\n",
    "    mlflow.log_metric(\"f1_score\", f1)\n",
    "    mlflow.log_metric(\"precision\", precision)\n",
    "    mlflow.sklearn.log_model(model, \"random_forest_classifier\")\n",
    "    print(\"Model logged with MLflow\")\n",
    "    print(\"Run ID:\", mlflow.active_run().info.run_id)\n",
    "    print(f\"Accuracy: {accuracy:.4f}, Precision: {precision:.4f}, F1 Score: {f1:.4f}\")\n",
    "\n",
    "\n"
   ]
  },
  {
   "cell_type": "code",
   "execution_count": 6,
   "id": "34534885",
   "metadata": {},
   "outputs": [
    {
     "name": "stderr",
     "output_type": "stream",
     "text": [
      "2025/08/17 08:33:44 INFO mlflow.tracking.fluent: Experiment with name '1708_dt_mlops_heart_case' does not exist. Creating a new experiment.\n"
     ]
    },
    {
     "name": "stdout",
     "output_type": "stream",
     "text": [
      "Decision Tree Accuracy: 0.819672131147541\n",
      "Decision Tree F1 Score: 0.8307692307692308\n",
      "Decision Tree Precision: 0.8181818181818182\n"
     ]
    },
    {
     "name": "stderr",
     "output_type": "stream",
     "text": [
      "2025/08/17 08:33:45 WARNING mlflow.models.model: `artifact_path` is deprecated. Please use `name` instead.\n",
      "2025/08/17 08:33:55 WARNING mlflow.models.model: Model logged without a signature and input example. Please set `input_example` parameter when logging the model to auto infer the model signature.\n"
     ]
    },
    {
     "name": "stdout",
     "output_type": "stream",
     "text": [
      "Decision Tree model logged with MLflow\n",
      "Run ID: a649e0bb16a249bc9aef89c4f6c26092\n",
      "Accuracy: 0.8197, Precision: 0.8182, F1 Score: 0.8308\n"
     ]
    }
   ],
   "source": [
    "from sklearn.tree import DecisionTreeClassifier\n",
    "\n",
    "# Train a Decision Tree Classifier\n",
    "dt_max_depth = 5\n",
    "dt_random_state = 37\n",
    "dt_model = DecisionTreeClassifier(max_depth=dt_max_depth, random_state=dt_random_state)\n",
    "dt_model.fit(X_train, y_train)\n",
    "dt_y_pred = dt_model.predict(X_test)\n",
    "\n",
    "dt_precision = precision_score(y_test, dt_y_pred)\n",
    "dt_accuracy = accuracy_score(y_test, dt_y_pred)\n",
    "dt_f1 = f1_score(y_test, dt_y_pred)\n",
    "\n",
    "print(\"Decision Tree Accuracy:\", dt_accuracy)\n",
    "print(\"Decision Tree F1 Score:\", dt_f1)\n",
    "print(\"Decision Tree Precision:\", dt_precision)\n",
    "\n",
    "# Log the Decision Tree model with MLflow\n",
    "mlflow.set_experiment(\"1708_dt_mlops_heart_case\")\n",
    "\n",
    "with mlflow.start_run():\n",
    "    mlflow.sklearn.log_model(dt_model, \"decision_tree_classifier\")\n",
    "    mlflow.log_param(\"max_depth\", dt_max_depth)\n",
    "    mlflow.log_param(\"random_state\", dt_random_state)\n",
    "    mlflow.log_metric(\"accuracy\", dt_accuracy)\n",
    "    mlflow.log_metric(\"f1_score\", dt_f1)\n",
    "    mlflow.log_metric(\"precision\", dt_precision)\n",
    "    print(\"Decision Tree model logged with MLflow\")\n",
    "    print(\"Run ID:\", mlflow.active_run().info.run_id)\n",
    "    print(f\"Accuracy: {dt_accuracy:.4f}, Precision: {dt_precision:.4f}, F1 Score: {dt_f1:.4f}\")"
   ]
  },
  {
   "cell_type": "code",
   "execution_count": 7,
   "id": "fdcb50a9",
   "metadata": {},
   "outputs": [
    {
     "name": "stderr",
     "output_type": "stream",
     "text": [
      "2025/08/17 09:04:31 INFO mlflow.tracking.fluent: Experiment with name '1708_xgboost_mlops_heart_case' does not exist. Creating a new experiment.\n"
     ]
    },
    {
     "name": "stdout",
     "output_type": "stream",
     "text": [
      "XGBoost Accuracy: 0.8360655737704918\n",
      "XGBoost F1 Score: 0.8387096774193549\n",
      "XGBoost Precision: 0.8666666666666667\n"
     ]
    },
    {
     "name": "stderr",
     "output_type": "stream",
     "text": [
      "2025/08/17 09:04:31 WARNING mlflow.models.model: `artifact_path` is deprecated. Please use `name` instead.\n",
      "C:\\Users\\ankit_aj\\AppData\\Roaming\\Python\\Python312\\site-packages\\xgboost\\sklearn.py:1028: UserWarning: [09:04:31] WARNING: C:\\actions-runner\\_work\\xgboost\\xgboost\\src\\c_api\\c_api.cc:1427: Saving model in the UBJSON format as default.  You can use file extension: `json`, `ubj` or `deprecated` to choose between formats.\n",
      "  self.get_booster().save_model(fname)\n",
      "2025/08/17 09:04:46 WARNING mlflow.models.model: Model logged without a signature and input example. Please set `input_example` parameter when logging the model to auto infer the model signature.\n"
     ]
    },
    {
     "name": "stdout",
     "output_type": "stream",
     "text": [
      "XGBoost model logged with MLflow\n",
      "Run ID: 6236e6c407414344bf4d2fd4283dd637\n",
      "Accuracy: 0.8361, Precision: 0.8667, F1 Score: 0.8387\n"
     ]
    }
   ],
   "source": [
    "# challenge: run the dataset with XGBoost and log the model with MLflow\n",
    "# you will have to install xgboost using pip install xgboost\n",
    "# Train XGBoost model\n",
    "import xgboost as xgb\n",
    "xgb_model = xgb.XGBClassifier(\n",
    "    n_estimators=100,\n",
    "    max_depth=3,\n",
    "    learning_rate=0.1,\n",
    "    random_state=42\n",
    ")\n",
    "\n",
    "# Fit the model\n",
    "xgb_model.fit(X_train, y_train)\n",
    "\n",
    "# Make predictions\n",
    "xgb_y_pred = xgb_model.predict(X_test)\n",
    "\n",
    "# Calculate metrics\n",
    "xgb_precision = precision_score(y_test, xgb_y_pred)\n",
    "xgb_accuracy = accuracy_score(y_test, xgb_y_pred)\n",
    "xgb_f1 = f1_score(y_test, xgb_y_pred)\n",
    "\n",
    "print(\"XGBoost Accuracy:\", xgb_accuracy)\n",
    "print(\"XGBoost F1 Score:\", xgb_f1)\n",
    "print(\"XGBoost Precision:\", xgb_precision)\n",
    "\n",
    "# Log the XGBoost model with MLflow\n",
    "mlflow.set_experiment(\"1708_xgboost_mlops_heart_case\")\n",
    "\n",
    "with mlflow.start_run():\n",
    "    mlflow.xgboost.log_model(xgb_model, \"xgboost_classifier\")\n",
    "    mlflow.log_params({\n",
    "        \"n_estimators\": 100,\n",
    "        \"max_depth\": 3,\n",
    "        \"learning_rate\": 0.1,\n",
    "        \"random_state\": 42\n",
    "    })\n",
    "    mlflow.log_metrics({\n",
    "        \"accuracy\": xgb_accuracy,\n",
    "        \"f1_score\": xgb_f1,\n",
    "        \"precision\": xgb_precision\n",
    "    })\n",
    "    print(\"XGBoost model logged with MLflow\")\n",
    "    print(\"Run ID:\", mlflow.active_run().info.run_id)\n",
    "    print(f\"Accuracy: {xgb_accuracy:.4f}, Precision: {xgb_precision:.4f}, F1 Score: {xgb_f1:.4f}\")\n",
    "\n"
   ]
  },
  {
   "cell_type": "code",
   "execution_count": 20,
   "id": "7a2e34bd",
   "metadata": {},
   "outputs": [
    {
     "name": "stdout",
     "output_type": "stream",
     "text": [
      "<Experiment: artifact_location='file:///c:/Users/ankit_aj/Desktop/MLOPS-case_studies/Demo_050725_DVC/Skillfy_27_July/skillfy_morn_2707/skillfy_morn_2707/MLFLOW_demo/mlruns/948957668212674834', creation_time=1755401671169, experiment_id='948957668212674834', last_update_time=1755401671169, lifecycle_stage='active', name='1708_xgboost_mlops_heart_case', tags={}>\n",
      "Using Experiment ID: 948957668212674834\n",
      "Latest Run ID: 6236e6c407414344bf4d2fd4283dd637\n",
      "Loading model from: runs:/6236e6c407414344bf4d2fd4283dd637/xgboost_classifier\n",
      "Predictions: [0 0 1 0 1 1 1 0 0 0]\n",
      "True Labels: 179    0\n",
      "228    0\n",
      "111    1\n",
      "246    0\n",
      "60     1\n",
      "9      1\n",
      "119    1\n",
      "223    0\n",
      "268    0\n",
      "33     1\n",
      "Name: target, dtype: int64\n"
     ]
    }
   ],
   "source": [
    "# ============================================\n",
    "# Load model from MLflow Experiment and Predict\n",
    "# ============================================\n",
    "\n",
    "import mlflow\n",
    "import mlflow.sklearn\n",
    "from mlflow.tracking import MlflowClient\n",
    "\n",
    "# 1. Tracking URI must be the same as training\n",
    "mlflow.set_tracking_uri(\"file:./mlruns\")\n",
    "\n",
    "\n",
    "# 2. Replace with your experiment name or ID\n",
    "experiment_name = \"1708_xgboost_mlops_heart_case\"\n",
    "exp = mlflow.get_experiment_by_name(experiment_name)\n",
    "print(exp)\n",
    "experiment_id = exp.experiment_id\n",
    "print(\"Using Experiment ID:\", experiment_id)\n",
    "\n",
    "# 3. Get latest run from this experiment\n",
    "client = MlflowClient()\n",
    "runs = client.search_runs(experiment_id, order_by=[\"attributes.start_time desc\"], max_results=1)\n",
    "\n",
    "if not runs:\n",
    "    raise Exception(\"No runs found in experiment:\", experiment_name)\n",
    "\n",
    "run = runs[0]\n",
    "run_id = run.info.run_id\n",
    "print(\"Latest Run ID:\", run_id)\n",
    "\n",
    "# 4. Construct model path\n",
    "model_uri = f\"runs:/{run_id}/xgboost_classifier\"\n",
    "print(\"Loading model from:\", model_uri)\n",
    "\n",
    "# 5. Load model\n",
    "model = mlflow.xgboost.load_model(model_uri)\n",
    "\n",
    "# 6. Run predictions on X_test (must reuse the same X_test as in training script)\n",
    "y_pred = model.predict(X_test)\n",
    "\n",
    "print(\"Predictions:\", y_pred[:10])\n",
    "print(\"True Labels:\", y_test[:10])\n"
   ]
  },
  {
   "cell_type": "code",
   "execution_count": 4,
   "id": "c1796635",
   "metadata": {},
   "outputs": [
    {
     "name": "stdout",
     "output_type": "stream",
     "text": [
      "MLflow UI running at http://localhost:5000\n"
     ]
    }
   ],
   "source": [
    "import subprocess\n",
    "import time\n",
    "\n",
    "# Start the MLflow UI on port 5000\n",
    "subprocess.Popen([\"mlflow\", \"ui\", \"--port\", \"5000\"])\n",
    "\n",
    "# Optional: Give it time to start\n",
    "time.sleep(3)\n",
    "\n",
    "print(\"MLflow UI running at http://localhost:5000\")\n"
   ]
  },
  {
   "cell_type": "code",
   "execution_count": null,
   "id": "ec258b0e",
   "metadata": {},
   "outputs": [],
   "source": [
    "# you will have to install mlflow using pip install mlflow\n",
    "# you just need to run this script and then open the MLflow UI in your browser at http://localhost:5000\n",
    "# you can also run the mlflow ui command in your terminal to start the MLflow UI"
   ]
  }
 ],
 "metadata": {
  "kernelspec": {
   "display_name": "Python 3",
   "language": "python",
   "name": "python3"
  },
  "language_info": {
   "codemirror_mode": {
    "name": "ipython",
    "version": 3
   },
   "file_extension": ".py",
   "mimetype": "text/x-python",
   "name": "python",
   "nbconvert_exporter": "python",
   "pygments_lexer": "ipython3",
   "version": "3.12.6"
  }
 },
 "nbformat": 4,
 "nbformat_minor": 5
}
